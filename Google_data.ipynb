{
 "cells": [
  {
   "cell_type": "code",
   "execution_count": 1,
   "metadata": {},
   "outputs": [],
   "source": [
    "#dependencies\n",
    "import pandas as pd\n",
    "import pgeocode\n",
    "from config import gkey\n",
    "import requests\n",
    "import json\n",
    "import pymongo\n",
    "import numpy as np"
   ]
  },
  {
   "cell_type": "code",
   "execution_count": 2,
   "metadata": {},
   "outputs": [],
   "source": [
    "#connect to mongo db and create \"locations_mdb\" database\n",
    "conn = 'mongodb://localhost:27017'\n",
    "client = pymongo.MongoClient(conn)\n",
    "\n",
    "# Define the 'classDB' database in Mongo\n",
    "db = client.locations_mdb"
   ]
  },
  {
   "cell_type": "code",
   "execution_count": 4,
   "metadata": {},
   "outputs": [],
   "source": [
    "#build the zip code reference table\n",
    "zips_df=pd.read_csv('sf_zips.csv')\n",
    "zips_df[\"Latitude\"] = \"\"\n",
    "zips_df[\"Longitude\"] = \"\"\n",
    "tool = pgeocode.Nominatim('US')\n",
    "\n",
    "for index, row in zips_df.iterrows():\n",
    "    zipcode = row['ZIPCode']\n",
    "    tool_table=tool.query_postal_code(zipcode)\n",
    "    lat=tool_table[\"latitude\"]\n",
    "    long=tool_table[\"longitude\"]\n",
    "    zips_df.loc[index, 'Latitude']=lat\n",
    "    zips_df.loc[index, 'Longitude']=long\n",
    "    "
   ]
  },
  {
   "cell_type": "markdown",
   "metadata": {},
   "source": [
    "<h2>Kathryn's Data</h2>\n",
    "<h4>\"Hotels\" collection:<h4>\n",
    "<p>The hotels collection is based on a query of every hotel located within 50,000 meters from the latitude and longitude corresponding to each zip code in the original dataset</p>"
   ]
  },
  {
   "cell_type": "code",
   "execution_count": 4,
   "metadata": {},
   "outputs": [],
   "source": [
    "###############\n",
    "#KATHRYN'S DATA\n",
    "###############\n",
    "#HOTELS collection: build from google api data\n",
    "#load into mongoDB\n",
    "\n",
    "api_url = \"https://maps.googleapis.com/maps/api/place/nearbysearch/json\"\n",
    "\n",
    "for index, row in zips_df.iterrows():\n",
    "    target_coordinates = f\"{zips_df.loc[index, 'Latitude']},{zips_df.loc[index, 'Longitude']}\" \n",
    "    target_radius = 50000\n",
    "    target_type = \"lodging\"\n",
    "\n",
    "# set up a parameters dictionary\n",
    "    params = {\n",
    "        \"location\": target_coordinates,\n",
    "        \"radius\": target_radius,\n",
    "        \"type\": target_type,\n",
    "        \"key\": gkey}\n",
    "\n",
    "# run a request using our params dictionary\n",
    "    response = requests.get(api_url, params=params).json()\n",
    "    \n",
    "    \n",
    "    db.hotels.insert_one(\n",
    "        {\n",
    "            'zip_code': row['ZIPCode'],\n",
    "            'type': row['Type'],\n",
    "            'county': row['County'],\n",
    "            'population': row['Population'],\n",
    "            'area_codes': row['Area Code(s)'],\n",
    "            'latitude': row['Latitude'],\n",
    "            'longitude': row['Longitude'],\n",
    "            'hotels': response[\"results\"]\n",
    "        }\n",
    "    )"
   ]
  },
  {
   "cell_type": "markdown",
   "metadata": {},
   "source": [
    "<h2>Heesung's Data</h2>\n",
    "<h4>\"Boba\" collection:<h4>\n",
    "<p>The Boba collection is based on (Heesung's description here)</p>"
   ]
  },
  {
   "cell_type": "code",
   "execution_count": 5,
   "metadata": {},
   "outputs": [],
   "source": [
    "###############\n",
    "#HEESUNG'S DATA\n",
    "###############\n",
    "#BOBA collection: build from Heesung's json file \n",
    "#load into mongoDB\n",
    "\n",
    "collection_boba = db['boba']\n",
    "with open (\"../Heesung_resources/boba_pika.json\") as f:\n",
    "    file_data = json.load(f)\n",
    "    for record in file_data:\n",
    "        collection_boba.insert_one(record)"
   ]
  },
  {
   "cell_type": "markdown",
   "metadata": {},
   "source": [
    "<h2>Caitlin's Data</h2>\n",
    "<h4>\"Parks\" collection:<h4>\n",
    "<p>The Parks collection is based on (Caitlin's description here)</p>"
   ]
  },
  {
   "cell_type": "code",
   "execution_count": 6,
   "metadata": {},
   "outputs": [
    {
     "data": {
      "text/plain": [
       "<pymongo.results.InsertOneResult at 0x10f929863c8>"
      ]
     },
     "execution_count": 6,
     "metadata": {},
     "output_type": "execute_result"
    }
   ],
   "source": [
    "###############\n",
    "#CAITLIN'S DATA\n",
    "###############\n",
    "#PARKS collection: build from Caitlin's json file (built from CSV file earlier)\n",
    "#load into mongoDB\n",
    "\n",
    "collection_parks = db['parks']\n",
    "parks_df = pd.read_csv ('../Cait_resources/Resources/SF_Park_Scores.csv')\n",
    "parks_dict=parks_df.to_dict('index')\n",
    "\n",
    "dumps=json.dumps(parks_dict)\n",
    "load=json.loads(dumps)\n",
    "collection_parks.insert_one(load)"
   ]
  },
  {
   "cell_type": "markdown",
   "metadata": {},
   "source": [
    "<h2>William's Data</h2>\n",
    "<h4>\"Restaurants\" collection:<h4>\n",
    "<p>The Parks collection is based on (Caitlin's description here)</p>"
   ]
  },
  {
   "cell_type": "code",
   "execution_count": 7,
   "metadata": {},
   "outputs": [
    {
     "data": {
      "text/plain": [
       "<pymongo.results.InsertOneResult at 0x10f920387c8>"
      ]
     },
     "execution_count": 7,
     "metadata": {},
     "output_type": "execute_result"
    }
   ],
   "source": [
    "###############\n",
    "#WILLIAM'S DATA\n",
    "###############\n",
    "#RESTAURANTS collection: build from William's CSV file (json was formatted strangely)\n",
    "#load into mongoDB\n",
    "\n",
    "collection_restaurants = db['restaurants']\n",
    "restaurants_df = pd.read_csv ('../Resources/raw.csv')\n",
    "restaurants_dict=restaurants_df.to_dict('index')\n",
    "\n",
    "dumps=json.dumps(restaurants_dict)\n",
    "load=json.loads(dumps)\n",
    "collection_restaurants.insert_one(load)"
   ]
  },
  {
   "cell_type": "code",
   "execution_count": 8,
   "metadata": {},
   "outputs": [
    {
     "data": {
      "text/plain": [
       "<pymongo.results.InsertOneResult at 0x10f920371c8>"
      ]
     },
     "execution_count": 8,
     "metadata": {},
     "output_type": "execute_result"
    }
   ],
   "source": [
    "collection_parks = db['parks']\n",
    "parks_df = pd.read_csv ('../Cait_resources/Resources/SF_Park_Scores.csv')\n",
    "parks_dict=parks_df.to_dict('index')\n",
    "\n",
    "dumps=json.dumps(parks_dict)\n",
    "load=json.loads(dumps)\n",
    "collection_parks.insert_one(load)"
   ]
  },
  {
   "cell_type": "markdown",
   "metadata": {},
   "source": [
    "<h1>Searching the Database for Nested Values</h1>\n",
    "\n",
    "<p>loop through the data to find desired value pairs using the method below.</p>"
   ]
  },
  {
   "cell_type": "code",
   "execution_count": 165,
   "metadata": {},
   "outputs": [],
   "source": [
    "\n",
    "#for location in db.locations.find({\"hotels.rating\":4.1}):\n",
    "#    for hotel in location[\"hotels\"]:\n",
    "#        if hotel[\"rating\"] == 4.1:\n",
    "#            print(json.dumps(hotel, sort_keys=True, indent=2))\n",
    "            "
   ]
  }
 ],
 "metadata": {
  "kernelspec": {
   "name": "python3",
   "display_name": "Python 3.8.5 64-bit ('DataViz': conda)",
   "metadata": {
    "interpreter": {
     "hash": "566c7dc836cf49ea79a80bde3a77d731ae67019fab1def2dd83c01090ce827fd"
    }
   }
  },
  "language_info": {
   "codemirror_mode": {
    "name": "ipython",
    "version": 3
   },
   "file_extension": ".py",
   "mimetype": "text/x-python",
   "name": "python",
   "nbconvert_exporter": "python",
   "pygments_lexer": "ipython3",
   "version": "3.8.5-final"
  }
 },
 "nbformat": 4,
 "nbformat_minor": 4
}