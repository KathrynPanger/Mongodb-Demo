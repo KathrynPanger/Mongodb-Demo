{
 "metadata": {
  "language_info": {
   "codemirror_mode": {
    "name": "ipython",
    "version": 3
   },
   "file_extension": ".py",
   "mimetype": "text/x-python",
   "name": "python",
   "nbconvert_exporter": "python",
   "pygments_lexer": "ipython3",
   "version": "3.8.5-final"
  },
  "orig_nbformat": 2,
  "kernelspec": {
   "name": "python3",
   "display_name": "Python 3.8.5 64-bit ('DataViz': conda)",
   "metadata": {
    "interpreter": {
     "hash": "566c7dc836cf49ea79a80bde3a77d731ae67019fab1def2dd83c01090ce827fd"
    }
   }
  }
 },
 "nbformat": 4,
 "nbformat_minor": 2,
 "cells": [
  {
   "cell_type": "code",
   "execution_count": 1,
   "metadata": {},
   "outputs": [],
   "source": [
    "##Dependencies\n",
    "from bs4 import BeautifulSoup\n",
    "import requests\n",
    "from selenium import webdriver\n",
    "from selenium.webdriver.chrome.options import Options\n",
    "from selenium.webdriver.common.keys import Keys\n",
    "import selenium\n",
    "import time\n",
    "import csv"
   ]
  },
  {
   "cell_type": "code",
   "execution_count": 79,
   "metadata": {},
   "outputs": [],
   "source": [
    "##Scraper\n",
    "\n",
    "#Start driver and navigate to webpage\n",
    "wd = webdriver.Chrome(chrome_options=options)\n",
    "url = \"https://www.thezorklibrary.com/history/00-encyclopedia.html\"\n",
    "wd.get(url) \n",
    "#Create empty collections\n",
    "itemlist=[]\n",
    "contentlist=[]\n",
    "frobozzica={}\n",
    "\n",
    "#Generate List of Links\n",
    "for i in range(30, 2373):\n",
    "    try:\n",
    "        links=wd.find_elements_by_tag_name('a')\n",
    "    #------->Assign link as item name to a variable\n",
    "        item=links[i].text\n",
    "        itemlist.append(item)\n",
    "    #------->click the link\n",
    "        links[i].click()\n",
    "    #------->grab the body text\n",
    "        body = wd.find_element_by_tag_name('body')\n",
    "        unstriped=body.text\n",
    "        content= (unstriped.rstrip(\"\\n\"))\n",
    "    #------->save body text to content list\n",
    "        contentlist.append(content)\n",
    "    #------->create a dictionary entry with [entry name: link text]\n",
    "        frobozzica[item] = content\n",
    "    #------->go back to the main page and wait\n",
    "        wd.get(url)\n",
    "    except:\n",
    "        continue\n"
   ]
  },
  {
   "cell_type": "code",
   "execution_count": null,
   "metadata": {},
   "outputs": [],
   "source": [
    "for key,val in frobozzica.items():\n",
    "    newval=val.replace(\"\\n\",\"\")\n",
    "    frobozzica[key]=newval"
   ]
  },
  {
   "cell_type": "code",
   "execution_count": 106,
   "metadata": {},
   "outputs": [],
   "source": [
    "import csv\n",
    "\n",
    "w = csv.writer(open(\"../../Documents/fantasy/zork/frobozzica.csv\", \"w\"))\n",
    "for key, val in frobozzica.items():\n",
    "    w.writerow([key, val])"
   ]
  },
  {
   "cell_type": "code",
   "execution_count": 104,
   "metadata": {},
   "outputs": [],
   "source": [
    "for key,val in frobozzica.items():\n",
    "    newval=val.replace(\"\\n\",\"\")\n",
    "    frobozzica[key]=newval"
   ]
  },
  {
   "cell_type": "code",
   "execution_count": 105,
   "metadata": {},
   "outputs": [
    {
     "output_type": "execute_result",
     "data": {
      "text/plain": [
       "'ALCHEMY (2)\"Alchemy\" is presumed to have been some sort of magazine in circulation during the Second Age of Magic.SOURCE(S): Legends of Zork'"
      ]
     },
     "metadata": {},
     "execution_count": 105
    }
   ],
   "source": [
    "frobozzica[\"Alchemy\"]"
   ]
  },
  {
   "cell_type": "code",
   "execution_count": 107,
   "metadata": {},
   "outputs": [],
   "source": [
    "w = csv.writer(open(\"frobozzica.csv\", \"w\"))\n",
    "for key, val in frobozzica.items():\n",
    "    w.writerow([key, val])"
   ]
  },
  {
   "cell_type": "code",
   "execution_count": 128,
   "metadata": {},
   "outputs": [
    {
     "output_type": "execute_result",
     "data": {
      "text/plain": [
       "'SPENSEWEEDThere has been much controversy about the true nature of spenseweed. \"The Lore and Legends of Quendor\" has this to say: \"The healing virtues of this common roadside plant are well documented. Although it is safe to eat, spenseweed is most effective when applied directly to wounds as a salve.\" This publication also advises us to \"avoid the cheap commercial preparations, which may contain artificial coloring and preservatives.\" A plant matching this description has been found in the Westlands, growing among the ruins of Pheebor, and near the village of Grubbo-by-the-Sea. Both its scent and taste is sweet and wholesome.However, early editions of the Encyclopedia Frobozzica call spenseweed \"a deep-rooting underwater plant.\" Once established, it can usually only be removed by using certain spells of wilting. The 883 GUE edition of this publication stated that the misconception of spenseweed as a roadside weed is grossly inaccurate, having been perpetuated by inaccurate entries in the last several editions of THE LORE AND LEGENDS OF QUENDOR. Spenseweed of this underwater variety has been seen flourishing in the western edge of the Great Sea, in a fish tank in Flatheadia, and at the bottom of Lake Flathead.Regardless, when cooked, spenseweed becomes buttery soft, and thus is used in a wide variety of products, including milkshakes and juice. Huntsmen find the best way to cook spenseweed is by rolling it up in broad morgia leaves and tucking it within the heart of ashes from a warm campfire.A single spenseweed could be purchased for 4zm in 966 GUE.The spenseweed is also the official flower of Antharia.'"
      ]
     },
     "metadata": {},
     "execution_count": 128
    }
   ],
   "source": [
    "frobozzica[\"Spenseweed\"]\n"
   ]
  },
  {
   "cell_type": "code",
   "execution_count": null,
   "metadata": {},
   "outputs": [],
   "source": []
  }
 ]
}