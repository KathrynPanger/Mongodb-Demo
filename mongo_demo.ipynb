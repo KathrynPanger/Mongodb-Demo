{
 "metadata": {
  "language_info": {
   "codemirror_mode": {
    "name": "ipython",
    "version": 3
   },
   "file_extension": ".py",
   "mimetype": "text/x-python",
   "name": "python",
   "nbconvert_exporter": "python",
   "pygments_lexer": "ipython3",
   "version": "3.8.5-final"
  },
  "orig_nbformat": 2,
  "kernelspec": {
   "name": "python3",
   "display_name": "Python 3.8.5 64-bit ('DataViz': conda)",
   "metadata": {
    "interpreter": {
     "hash": "566c7dc836cf49ea79a80bde3a77d731ae67019fab1def2dd83c01090ce827fd"
    }
   }
  }
 },
 "nbformat": 4,
 "nbformat_minor": 2,
 "cells": [
  {
   "cell_type": "code",
   "execution_count": 1,
   "metadata": {},
   "outputs": [],
   "source": [
    "#Dependencies\n",
    "from bs4 import BeautifulSoup\n",
    "import requests\n",
    "from selenium import webdriver\n",
    "from selenium.webdriver.chrome.options import Options\n",
    "from selenium.webdriver.common.keys import Keys\n",
    "import selenium\n",
    "import time\n",
    "import csv"
   ]
  },
  {
   "cell_type": "code",
   "execution_count": 79,
   "metadata": {},
   "outputs": [],
   "source": [
    "#Start driver and navigate to webpage\n",
    "wd = webdriver.Chrome(chrome_options=options)\n",
    "url = \"https://www.thezorklibrary.com/history/00-encyclopedia.html\"\n",
    "wd.get(url) \n",
    "#Create empty collections\n",
    "itemlist=[]\n",
    "contentlist=[]\n",
    "frobozzica={}\n",
    "\n",
    "#Generate List of Links\n",
    "for i in range(30, 2373):\n",
    "    try:\n",
    "        links=wd.find_elements_by_tag_name('a')\n",
    "    #------->Assign link as item name to a variable\n",
    "        item=links[i].text\n",
    "        itemlist.append(item)\n",
    "    #------->click the link\n",
    "        links[i].click()\n",
    "    #------->grab the body text\n",
    "        body = wd.find_element_by_tag_name('body')\n",
    "        unstriped=body.text\n",
    "        content= (unstriped.rstrip(\"\\n\"))\n",
    "    #------->save body text to content list\n",
    "        contentlist.append(content)\n",
    "    #------->create a dictionary entry with [entry name: link text]\n",
    "        frobozzica[item] = content\n",
    "    #------->go back to the main page and wait\n",
    "        wd.get(url)\n",
    "    except:\n",
    "        continue\n"
   ]
  },
  {
   "cell_type": "code",
   "execution_count": 90,
   "metadata": {},
   "outputs": [],
   "source": [
    "import csv\n",
    "\n",
    "w = csv.writer(open(\"../../Documents/fantasy/zork/frobozzica.csv\", \"w\"))\n",
    "for key, val in frobozzica.items():\n",
    "    w.writerow([key, val])"
   ]
  }
 ]
}