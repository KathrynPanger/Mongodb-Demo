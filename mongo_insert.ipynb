{
 "metadata": {
  "language_info": {
   "codemirror_mode": {
    "name": "ipython",
    "version": 3
   },
   "file_extension": ".py",
   "mimetype": "text/x-python",
   "name": "python",
   "nbconvert_exporter": "python",
   "pygments_lexer": "ipython3",
   "version": "3.8.5-final"
  },
  "orig_nbformat": 2,
  "kernelspec": {
   "name": "python3",
   "display_name": "Python 3.8.5 64-bit",
   "metadata": {
    "interpreter": {
     "hash": "566c7dc836cf49ea79a80bde3a77d731ae67019fab1def2dd83c01090ce827fd"
    }
   }
  }
 },
 "nbformat": 4,
 "nbformat_minor": 2,
 "cells": [
  {
   "source": [
    "<h1>MongoDB and JSON: Using Python to Insert Data</h1>\n",
    "Data is pulled from the google maps api and inserted into MongoDB"
   ],
   "cell_type": "markdown",
   "metadata": {}
  },
  {
   "cell_type": "code",
   "execution_count": 1,
   "metadata": {},
   "outputs": [],
   "source": [
    "#Dependencies\n",
    "\n",
    "##create tables\n",
    "import pandas as pd \n",
    "\n",
    "##Tool for converting Zip Codes into Latitude and Longitude coordinates\n",
    "import pgeocode \n",
    "\n",
    "##Use API key\n",
    "from config import gkey \n",
    "\n",
    "##API lookup\n",
    "import requests\n",
    "\n",
    "##Reading JSONS\n",
    "import json \n",
    "\n",
    "##Connecting and using MongoDB commands in Python\n",
    "import pymongo \n",
    "\n",
    "##Create artificial delay if lookups cause timeouts\n",
    "import time "
   ]
  },
  {
   "cell_type": "code",
   "execution_count": 2,
   "metadata": {},
   "outputs": [],
   "source": [
    "#Connect to mongo db and create \"locations_mdb\" database\n",
    "conn = 'mongodb://localhost:27017'\n",
    "client = pymongo.MongoClient(conn)\n",
    "\n",
    "#Create \"locations_mdb\" database and assign it to a variable\n",
    "#(note: MongoDB automatically creates a database when you call it, so this will do both)\n",
    "db = client.locations_mdb"
   ]
  },
  {
   "cell_type": "code",
   "execution_count": 3,
   "metadata": {},
   "outputs": [
    {
     "output_type": "error",
     "ename": "NameError",
     "evalue": "name 'zips_df' is not defined",
     "traceback": [
      "\u001b[0;31m---------------------------------------------------------------------------\u001b[0m",
      "\u001b[0;31mNameError\u001b[0m                                 Traceback (most recent call last)",
      "\u001b[0;32m<ipython-input-3-41c557867091>\u001b[0m in \u001b[0;36m<module>\u001b[0;34m\u001b[0m\n\u001b[1;32m      1\u001b[0m \u001b[0;31m#Check the Zip Code table\u001b[0m\u001b[0;34m\u001b[0m\u001b[0;34m\u001b[0m\u001b[0;34m\u001b[0m\u001b[0m\n\u001b[0;32m----> 2\u001b[0;31m \u001b[0mzips_df\u001b[0m\u001b[0;34m.\u001b[0m\u001b[0mhead\u001b[0m\u001b[0;34m(\u001b[0m\u001b[0;34m)\u001b[0m\u001b[0;34m\u001b[0m\u001b[0;34m\u001b[0m\u001b[0m\n\u001b[0m",
      "\u001b[0;31mNameError\u001b[0m: name 'zips_df' is not defined"
     ]
    }
   ],
   "source": [
    "#Build the zip code reference table in PANDAS\n",
    "zips_df=pd.read_csv('resources/sf_zips.csv')\n",
    "zips_df.head()"
   ]
  },
  {
   "cell_type": "code",
   "execution_count": 17,
   "metadata": {},
   "outputs": [],
   "source": [
    "\n",
    "\n",
    "#Use the pgeocode tool to convert zips to latitude and longitude, add to table.\n",
    "tool = pgeocode.Nominatim('US')\n",
    "\n",
    "for index, row in zips_df.iterrows():\n",
    "    zipcode = row['ZIPCode']\n",
    "    tool_table=tool.query_postal_code(zipcode)\n",
    "    lat=tool_table[\"latitude\"]\n",
    "    long=tool_table[\"longitude\"]\n",
    "    zips_df.loc[index, 'Latitude']=lat\n",
    "    zips_df.loc[index, 'Longitude']=long\n",
    "    "
   ]
  },
  {
   "cell_type": "code",
   "execution_count": 13,
   "metadata": {},
   "outputs": [
    {
     "output_type": "execute_result",
     "data": {
      "text/plain": [
       "   Unnamed: 0  ZIPCode      Type         County Population  \\\n",
       "0           0    94102  Standard  San Francisco     31,176   \n",
       "1           1    94103  Standard  San Francisco     27,170   \n",
       "2           2    94104  Standard  San Francisco        406   \n",
       "3           3    94105  Standard  San Francisco      5,846   \n",
       "4           4    94107  Standard  San Francisco     26,599   \n",
       "\n",
       "            Area Code(s) Latitude Longitude  \n",
       "0              415 / 510  37.7813  -122.417  \n",
       "1        415 / 510 / 650  37.7725  -122.415  \n",
       "2  415 / 510 / 650 / 628  37.7915  -122.402  \n",
       "3  415 / 510 / 650 / 628  37.7864  -122.389  \n",
       "4        415 / 510 / 650  37.7621  -122.397  "
      ],
      "text/html": "<div>\n<style scoped>\n    .dataframe tbody tr th:only-of-type {\n        vertical-align: middle;\n    }\n\n    .dataframe tbody tr th {\n        vertical-align: top;\n    }\n\n    .dataframe thead th {\n        text-align: right;\n    }\n</style>\n<table border=\"1\" class=\"dataframe\">\n  <thead>\n    <tr style=\"text-align: right;\">\n      <th></th>\n      <th>Unnamed: 0</th>\n      <th>ZIPCode</th>\n      <th>Type</th>\n      <th>County</th>\n      <th>Population</th>\n      <th>Area Code(s)</th>\n      <th>Latitude</th>\n      <th>Longitude</th>\n    </tr>\n  </thead>\n  <tbody>\n    <tr>\n      <th>0</th>\n      <td>0</td>\n      <td>94102</td>\n      <td>Standard</td>\n      <td>San Francisco</td>\n      <td>31,176</td>\n      <td>415 / 510</td>\n      <td>37.7813</td>\n      <td>-122.417</td>\n    </tr>\n    <tr>\n      <th>1</th>\n      <td>1</td>\n      <td>94103</td>\n      <td>Standard</td>\n      <td>San Francisco</td>\n      <td>27,170</td>\n      <td>415 / 510 / 650</td>\n      <td>37.7725</td>\n      <td>-122.415</td>\n    </tr>\n    <tr>\n      <th>2</th>\n      <td>2</td>\n      <td>94104</td>\n      <td>Standard</td>\n      <td>San Francisco</td>\n      <td>406</td>\n      <td>415 / 510 / 650 / 628</td>\n      <td>37.7915</td>\n      <td>-122.402</td>\n    </tr>\n    <tr>\n      <th>3</th>\n      <td>3</td>\n      <td>94105</td>\n      <td>Standard</td>\n      <td>San Francisco</td>\n      <td>5,846</td>\n      <td>415 / 510 / 650 / 628</td>\n      <td>37.7864</td>\n      <td>-122.389</td>\n    </tr>\n    <tr>\n      <th>4</th>\n      <td>4</td>\n      <td>94107</td>\n      <td>Standard</td>\n      <td>San Francisco</td>\n      <td>26,599</td>\n      <td>415 / 510 / 650</td>\n      <td>37.7621</td>\n      <td>-122.397</td>\n    </tr>\n  </tbody>\n</table>\n</div>"
     },
     "metadata": {},
     "execution_count": 13
    }
   ],
   "source": [
    "#Check new table\n",
    "zips_df.head()"
   ]
  },
  {
   "cell_type": "code",
   "execution_count": 4,
   "metadata": {},
   "outputs": [],
   "source": [
    "#HOTELS collection: build from google api data\n",
    "#load into mongoDB\n",
    "\n",
    "api_url = \"https://maps.googleapis.com/maps/api/place/nearbysearch/json\"\n",
    "\n",
    "for index, row in zips_df.iterrows():\n",
    "    time.sleep(0.5)\n",
    "    target_coordinates = f\"{zips_df.loc[index, 'Latitude']},{zips_df.loc[index, 'Longitude']}\" \n",
    "    target_radius = 50000\n",
    "    target_type = \"lodging\"\n",
    "\n",
    "# set up a parameters dictionary\n",
    "    params = {\n",
    "        \"location\": target_coordinates,\n",
    "        \"radius\": target_radius,\n",
    "        \"type\": target_type,\n",
    "        \"key\": gkey}\n",
    "\n",
    "# run a request using our params dictionary\n",
    "    response = requests.get(api_url, params=params).json()\n",
    "    \n",
    "    \n",
    "    db.hotels.insert_one(\n",
    "        {\n",
    "            'zip_code': row['ZIPCode'],\n",
    "            'type': row['Type'],\n",
    "            'county': row['County'],\n",
    "            'population': row['Population'],\n",
    "            'area_codes': row['Area Code(s)'],\n",
    "            'latitude': row['Latitude'],\n",
    "            'longitude': row['Longitude'],\n",
    "            'hotels': response[\"results\"]\n",
    "        }\n",
    "    )"
   ]
  },
  {
   "cell_type": "code",
   "execution_count": 39,
   "metadata": {},
   "outputs": [],
   "source": [
    "#Build hotels database in PANDAS\n",
    "hotels_df = pd.DataFrame(columns = ['Name', 'Address', \"Status\", 'Lattitude', \"Longitude\"]) \n",
    "\n",
    "api_url = \"https://maps.googleapis.com/maps/api/place/nearbysearch/json\"\n",
    "\n",
    "for index, row in zips_df.iterrows():\n",
    "    time.sleep(0.5)\n",
    "    target_coordinates = f\"{zips_df.loc[index, 'Latitude']},{zips_df.loc[index, 'Longitude']}\" \n",
    "    target_radius = 50000\n",
    "    target_type = \"lodging\"\n",
    "\n",
    "# set up a parameters dictionary\n",
    "    params = {\n",
    "        \"location\": target_coordinates,\n",
    "        \"radius\": target_radius,\n",
    "        \"type\": target_type,\n",
    "        \"key\": gkey}\n",
    "\n",
    "    response = requests.get(api_url, params=params).json()\n",
    "\n",
    "# create a pandas dataframe of hotels\n",
    "    for i in range(0,len(response[\"results\"])):\n",
    "        name=response[\"results\"][i][\"name\"]\n",
    "        lat=response[\"results\"][i][\"geometry\"][\"location\"][\"lat\"]\n",
    "        long=response[\"results\"][i][\"geometry\"][\"location\"][\"lng\"]\n",
    "        status=response[\"results\"][i][\"business_status\"]\n",
    "        address=response[\"results\"][i]['vicinity']\n",
    "\n",
    "        hotels_df = hotels_df.append({'Name' : name, 'Address' : address, 'Status' : status, \"Latitude\" :lat, \"Longitude\": long},  \n",
    "                ignore_index = True) \n",
    "    "
   ]
  },
  {
   "cell_type": "code",
   "execution_count": 57,
   "metadata": {},
   "outputs": [],
   "source": [
    "#Drop any duplicates\n",
    "hotels_df.drop_duplicates(keep='first', inplace=True, ignore_index=True)"
   ]
  },
  {
   "cell_type": "code",
   "execution_count": 56,
   "metadata": {},
   "outputs": [],
   "source": [
    "    #Insert entries into MongoDB\n",
    "    for index, row in hotels_df.iterrows():\n",
    "\n",
    "        db.hotels.insert_one(\n",
    "            {\n",
    "                'Name': f\"{hotels_df.loc[index, 'Name']}\",\n",
    "                'Address': f\"{hotels_df.loc[index, 'Address']}\",\n",
    "                'Status': f\"{hotels_df.loc[index, 'Status']}\",\n",
    "                'Lattitude': f\"{hotels_df.loc[index, 'Latitude']}\",\n",
    "                'Longitude': f\"{hotels_df.loc[index, 'Longitude']}\"\n",
    "\n",
    "            }\n",
    "        )"
   ]
  },
  {
   "cell_type": "code",
   "execution_count": null,
   "metadata": {},
   "outputs": [],
   "source": [
    "#Retrieve your data"
   ]
  }
 ]
}