{
 "metadata": {
  "language_info": {
   "codemirror_mode": {
    "name": "ipython",
    "version": 3
   },
   "file_extension": ".py",
   "mimetype": "text/x-python",
   "name": "python",
   "nbconvert_exporter": "python",
   "pygments_lexer": "ipython3",
   "version": "3.8.5-final"
  },
  "orig_nbformat": 2,
  "kernelspec": {
   "name": "python3",
   "display_name": "Python 3.8.5 64-bit ('DataViz': conda)",
   "metadata": {
    "interpreter": {
     "hash": "566c7dc836cf49ea79a80bde3a77d731ae67019fab1def2dd83c01090ce827fd"
    }
   }
  }
 },
 "nbformat": 4,
 "nbformat_minor": 2,
 "cells": [
  {
   "cell_type": "code",
   "execution_count": 1,
   "metadata": {},
   "outputs": [],
   "source": [
    "#dependencies\n",
    "import pandas as pd\n",
    "import pgeocode\n",
    "from config import gkey\n",
    "import requests\n",
    "import json\n",
    "import pymongo\n",
    "import numpy as np\n",
    "import time"
   ]
  },
  {
   "source": [
    "<h1>How to Insert From an API Call</h1>\n",
    "Data is pulled from the google maps api and inserted into MongoDB"
   ],
   "cell_type": "markdown",
   "metadata": {}
  },
  {
   "cell_type": "code",
   "execution_count": 2,
   "metadata": {},
   "outputs": [],
   "source": [
    "#connect to mongo db and create \"locations_mdb\" database\n",
    "conn = 'mongodb://localhost:27017'\n",
    "client = pymongo.MongoClient(conn)\n",
    "\n",
    "# Define the 'classDB' database in Mongo\n",
    "db = client.locations_mdb"
   ]
  },
  {
   "cell_type": "code",
   "execution_count": 3,
   "metadata": {},
   "outputs": [],
   "source": [
    "#Build the zip code reference table\n",
    "zips_df=pd.read_csv('sf_zips.csv')\n",
    "zips_df[\"Latitude\"] = \"\"\n",
    "zips_df[\"Longitude\"] = \"\"\n",
    "tool = pgeocode.Nominatim('US')\n",
    "\n",
    "for index, row in zips_df.iterrows():\n",
    "    zipcode = row['ZIPCode']\n",
    "    tool_table=tool.query_postal_code(zipcode)\n",
    "    lat=tool_table[\"latitude\"]\n",
    "    long=tool_table[\"longitude\"]\n",
    "    zips_df.loc[index, 'Latitude']=lat\n",
    "    zips_df.loc[index, 'Longitude']=long\n",
    "    "
   ]
  },
  {
   "cell_type": "code",
   "execution_count": 4,
   "metadata": {},
   "outputs": [],
   "source": [
    "#HOTELS collection: build from google api data\n",
    "#load into mongoDB\n",
    "\n",
    "api_url = \"https://maps.googleapis.com/maps/api/place/nearbysearch/json\"\n",
    "\n",
    "for index, row in zips_df.iterrows():\n",
    "    time.sleep(0.5)\n",
    "    target_coordinates = f\"{zips_df.loc[index, 'Latitude']},{zips_df.loc[index, 'Longitude']}\" \n",
    "    target_radius = 50000\n",
    "    target_type = \"lodging\"\n",
    "\n",
    "# set up a parameters dictionary\n",
    "    params = {\n",
    "        \"location\": target_coordinates,\n",
    "        \"radius\": target_radius,\n",
    "        \"type\": target_type,\n",
    "        \"key\": gkey}\n",
    "\n",
    "# run a request using our params dictionary\n",
    "    response = requests.get(api_url, params=params).json()\n",
    "    \n",
    "    \n",
    "    db.hotels.insert_one(\n",
    "        {\n",
    "            'zip_code': row['ZIPCode'],\n",
    "            'type': row['Type'],\n",
    "            'county': row['County'],\n",
    "            'population': row['Population'],\n",
    "            'area_codes': row['Area Code(s)'],\n",
    "            'latitude': row['Latitude'],\n",
    "            'longitude': row['Longitude'],\n",
    "            'hotels': response[\"results\"]\n",
    "        }\n",
    "    )"
   ]
  },
  {
   "cell_type": "code",
   "execution_count": 39,
   "metadata": {},
   "outputs": [],
   "source": [
    "#Build hotels database in PANDAS\n",
    "hotels_df = pd.DataFrame(columns = ['Name', 'Address', \"Status\", 'Lattitude', \"Longitude\"]) \n",
    "\n",
    "api_url = \"https://maps.googleapis.com/maps/api/place/nearbysearch/json\"\n",
    "\n",
    "for index, row in zips_df.iterrows():\n",
    "    time.sleep(0.5)\n",
    "    target_coordinates = f\"{zips_df.loc[index, 'Latitude']},{zips_df.loc[index, 'Longitude']}\" \n",
    "    target_radius = 50000\n",
    "    target_type = \"lodging\"\n",
    "\n",
    "# set up a parameters dictionary\n",
    "    params = {\n",
    "        \"location\": target_coordinates,\n",
    "        \"radius\": target_radius,\n",
    "        \"type\": target_type,\n",
    "        \"key\": gkey}\n",
    "\n",
    "    response = requests.get(api_url, params=params).json()\n",
    "\n",
    "# create a pandas dataframe of hotels\n",
    "    for i in range(0,len(response[\"results\"])):\n",
    "        name=response[\"results\"][i][\"name\"]\n",
    "        lat=response[\"results\"][i][\"geometry\"][\"location\"][\"lat\"]\n",
    "        long=response[\"results\"][i][\"geometry\"][\"location\"][\"lng\"]\n",
    "        status=response[\"results\"][i][\"business_status\"]\n",
    "        address=response[\"results\"][i]['vicinity']\n",
    "\n",
    "        hotels_df = hotels_df.append({'Name' : name, 'Address' : address, 'Status' : status, \"Lattitude\" :lat, \"Longitude\": long},  \n",
    "                ignore_index = True) \n",
    "    "
   ]
  },
  {
   "cell_type": "code",
   "execution_count": 57,
   "metadata": {},
   "outputs": [],
   "source": [
    "#Drop any duplicates\n",
    "hotels_df.drop_duplicates(keep='first', inplace=True, ignore_index=True)"
   ]
  },
  {
   "cell_type": "code",
   "execution_count": 56,
   "metadata": {},
   "outputs": [],
   "source": [
    "    #Insert entries into MongoDB\n",
    "    for index, row in hotels_df.iterrows():\n",
    "\n",
    "        db.hotels.insert_one(\n",
    "            {\n",
    "                'Name': f\"{hotels_df.loc[index, 'Name']}\",\n",
    "                'Address': f\"{hotels_df.loc[index, 'Address']}\",\n",
    "                'Status': f\"{hotels_df.loc[index, 'Status']}\",\n",
    "                'Lattitude': f\"{hotels_df.loc[index, 'Lattitude']}\",\n",
    "                'Longitude': f\"{hotels_df.loc[index, 'Longitude']}\"\n",
    "\n",
    "            }\n",
    "        )"
   ]
  },
  {
   "cell_type": "code",
   "execution_count": null,
   "metadata": {},
   "outputs": [],
   "source": [
    "#Retrieve your data"
   ]
  }
 ]
}