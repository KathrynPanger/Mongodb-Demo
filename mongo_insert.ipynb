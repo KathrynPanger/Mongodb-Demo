{
 "metadata": {
  "language_info": {
   "codemirror_mode": {
    "name": "ipython",
    "version": 3
   },
   "file_extension": ".py",
   "mimetype": "text/x-python",
   "name": "python",
   "nbconvert_exporter": "python",
   "pygments_lexer": "ipython3",
   "version": "3.8.5-final"
  },
  "orig_nbformat": 2,
  "kernelspec": {
   "name": "python3",
   "display_name": "Python 3.8.5 64-bit ('DataViz': conda)",
   "metadata": {
    "interpreter": {
     "hash": "566c7dc836cf49ea79a80bde3a77d731ae67019fab1def2dd83c01090ce827fd"
    }
   }
  }
 },
 "nbformat": 4,
 "nbformat_minor": 2,
 "cells": [
  {
   "source": [
    "<h1>MongoDB and JSON: Using Python to Insert Data</h1>\n",
    "Data is pulled from the google maps api and inserted into MongoDB.\n",
    "\n",
    "Before running this code, make sure you've started MongoDB from your shell and connected to it, otherwise your records won't be added.\n",
    "<p>On Windows and Mac: https://docs.mongodb.com/manual/mongo/</p>\n",
    "<p>On Linux: https://dzone.com/articles/mongodb-commands-cheat-sheet-for-beginners</p>\n",
    "\n",
    "In this file we will:\n",
    "<ol type = '1'>  \n",
    "<li>Set things up by bringing in our dependencies and connecting to MongoDB </li>\n",
    "<li>Insert records using an external JSON file</li>\n",
    "<li>Insert records using an API call</li>\n",
    "<li>Look up records by ID</li>\n",
    "<li>Look up records by string search</li>\n",
    "</ol>\n"
   ],
   "cell_type": "markdown",
   "metadata": {}
  },
  {
   "source": [
    "<h3><u>Setup</u?</h3>"
   ],
   "cell_type": "markdown",
   "metadata": {}
  },
  {
   "cell_type": "code",
   "execution_count": 5,
   "metadata": {},
   "outputs": [],
   "source": [
    "#Dependencies\n",
    "\n",
    "##create tables\n",
    "import pandas as pd \n",
    "\n",
    "##Tool for converting Zip Codes into Latitude and Longitude coordinates\n",
    "import pgeocode \n",
    "\n",
    "##Use API key\n",
    "from config import gkey, okey \n",
    "\n",
    "##API lookup\n",
    "import requests\n",
    "\n",
    "##Reading JSONS\n",
    "import json \n",
    "\n",
    "##Connecting and using MongoDB commands in Python\n",
    "import pymongo \n",
    "\n",
    "##Create artificial delay if lookups cause timeouts\n",
    "import time \n",
    "\n",
    "#Makes data readable\n",
    "from pprint import pprint"
   ]
  },
  {
   "cell_type": "code",
   "execution_count": 6,
   "metadata": {},
   "outputs": [],
   "source": [
    "#Connect to mongo db and create \"locations_mdb\" database\n",
    "conn = 'mongodb://localhost:27017'\n",
    "client = pymongo.MongoClient(conn)\n",
    "\n",
    "#Create \"locations_mdb\" database and assign it to a variable\n",
    "#(note: MongoDB automatically creates a database when you call it, so this will do both)\n",
    "db = client.locations_mdb\n",
    "\n",
    "#Creating or swithcing to a collection\n",
    "clients = db[\"clients\"]  \n",
    "hotels = db[\"hotels\"]\n",
    "\n",
    "#Notice that the database and collections don't appear in MongoDB at this stage. This is because MongoDB does not save collections until data is loaded into them. This step isn't really necessary; the database and collections are created as they are referenced."
   ]
  },
  {
   "source": [
    "<h2>Method 1: Insert Data into MongoDB from an External JSON file</h2>\n",
    "<p>Using a randomly generated JSON of fictional clients, we will add records to our collection.</p>"
   ],
   "cell_type": "markdown",
   "metadata": {}
  },
  {
   "cell_type": "code",
   "execution_count": 7,
   "metadata": {},
   "outputs": [
    {
     "output_type": "execute_result",
     "data": {
      "text/plain": [
       "<pymongo.results.InsertManyResult at 0x7ff99c8b2640>"
      ]
     },
     "metadata": {},
     "execution_count": 7
    }
   ],
   "source": [
    "#Read and Parse the JSON File\n",
    "myfile=open(\"generated.json\",\"r\")\n",
    "json_file=json.load(myfile)\n",
    "\n",
    "#Load into MongoDB\n",
    "db.clients.insert_many(json_file)"
   ]
  },
  {
   "source": [
    "<h2>Method 2: Insert Data Directly into MongoDB from the API Pull</h2>"
   ],
   "cell_type": "markdown",
   "metadata": {}
  },
  {
   "cell_type": "code",
   "execution_count": 35,
   "metadata": {},
   "outputs": [
    {
     "output_type": "execute_result",
     "data": {
      "text/plain": [
       "   Unnamed: 0  Unnamed: 0.1  Unnamed: 0.1.1  ZIPCode      Type         County  \\\n",
       "0           0             0               0    94102  Standard  San Francisco   \n",
       "1           1             1               1    94103  Standard  San Francisco   \n",
       "2           2             2               2    94104  Standard  San Francisco   \n",
       "3           3             3               3    94105  Standard  San Francisco   \n",
       "4           4             4               4    94107  Standard  San Francisco   \n",
       "\n",
       "  Population           Area Code(s)  Latitude  Longitude  \n",
       "0     31,176              415 / 510   37.7813  -122.4167  \n",
       "1     27,170        415 / 510 / 650   37.7725  -122.4147  \n",
       "2        406  415 / 510 / 650 / 628   37.7915  -122.4018  \n",
       "3      5,846  415 / 510 / 650 / 628   37.7864  -122.3892  \n",
       "4     26,599        415 / 510 / 650   37.7621  -122.3971  "
      ],
      "text/html": "<div>\n<style scoped>\n    .dataframe tbody tr th:only-of-type {\n        vertical-align: middle;\n    }\n\n    .dataframe tbody tr th {\n        vertical-align: top;\n    }\n\n    .dataframe thead th {\n        text-align: right;\n    }\n</style>\n<table border=\"1\" class=\"dataframe\">\n  <thead>\n    <tr style=\"text-align: right;\">\n      <th></th>\n      <th>Unnamed: 0</th>\n      <th>Unnamed: 0.1</th>\n      <th>Unnamed: 0.1.1</th>\n      <th>ZIPCode</th>\n      <th>Type</th>\n      <th>County</th>\n      <th>Population</th>\n      <th>Area Code(s)</th>\n      <th>Latitude</th>\n      <th>Longitude</th>\n    </tr>\n  </thead>\n  <tbody>\n    <tr>\n      <th>0</th>\n      <td>0</td>\n      <td>0</td>\n      <td>0</td>\n      <td>94102</td>\n      <td>Standard</td>\n      <td>San Francisco</td>\n      <td>31,176</td>\n      <td>415 / 510</td>\n      <td>37.7813</td>\n      <td>-122.4167</td>\n    </tr>\n    <tr>\n      <th>1</th>\n      <td>1</td>\n      <td>1</td>\n      <td>1</td>\n      <td>94103</td>\n      <td>Standard</td>\n      <td>San Francisco</td>\n      <td>27,170</td>\n      <td>415 / 510 / 650</td>\n      <td>37.7725</td>\n      <td>-122.4147</td>\n    </tr>\n    <tr>\n      <th>2</th>\n      <td>2</td>\n      <td>2</td>\n      <td>2</td>\n      <td>94104</td>\n      <td>Standard</td>\n      <td>San Francisco</td>\n      <td>406</td>\n      <td>415 / 510 / 650 / 628</td>\n      <td>37.7915</td>\n      <td>-122.4018</td>\n    </tr>\n    <tr>\n      <th>3</th>\n      <td>3</td>\n      <td>3</td>\n      <td>3</td>\n      <td>94105</td>\n      <td>Standard</td>\n      <td>San Francisco</td>\n      <td>5,846</td>\n      <td>415 / 510 / 650 / 628</td>\n      <td>37.7864</td>\n      <td>-122.3892</td>\n    </tr>\n    <tr>\n      <th>4</th>\n      <td>4</td>\n      <td>4</td>\n      <td>4</td>\n      <td>94107</td>\n      <td>Standard</td>\n      <td>San Francisco</td>\n      <td>26,599</td>\n      <td>415 / 510 / 650</td>\n      <td>37.7621</td>\n      <td>-122.3971</td>\n    </tr>\n  </tbody>\n</table>\n</div>"
     },
     "metadata": {},
     "execution_count": 35
    }
   ],
   "source": [
    "# If you are looking up data from an API, you might have a table of values that you are using for your queries. Here, we will use zip code data to look up the locations of hotels in San Fransisco.\n",
    "\n",
    "# Build the zip code reference table in PANDAS\n",
    "zips_df=pd.read_csv('resources/zip_codes.csv')\n",
    "zips_df.head()"
   ]
  },
  {
   "cell_type": "code",
   "execution_count": 28,
   "metadata": {},
   "outputs": [],
   "source": [
    "#Create a collection (\"hotels_full\") in MongoDB and load in data from google api\n",
    "\n",
    "#Save the api_url to a variable\n",
    "api_url = \"https://maps.googleapis.com/maps/api/place/nearbysearch/json\"\n",
    "\n",
    "#Loop through the zip code data and...\n",
    " \n",
    "#-->save each lat,long pair to a variable.\n",
    "for index, row in zips_df.iterrows():\n",
    "    #time.sleep(0.2) #--> This prevents timeouts from pulling API data too quickly.\n",
    "    target_coordinates = f\"{zips_df.loc[index, 'Latitude']},{zips_df.loc[index, 'Longitude']}\" \n",
    "    target_radius = 50000\n",
    "    target_type = \"lodging\"\n",
    "\n",
    "#--> set up a parameters dictionary\n",
    "    params = {\n",
    "        \"location\": target_coordinates,\n",
    "        \"radius\": target_radius,\n",
    "        \"type\": target_type,\n",
    "        \"key\": gkey}\n",
    "\n",
    "#--> Request a JSON using our parameters dictionary\n",
    "    response = requests.get(api_url, params=params).json()\n",
    "    \n",
    "#-->Insert the record into MongoDB using our connected database and Mongo's \"insert_one\" function.\n",
    "#Note: Remember that we created a variable \"db\" earlier to represent our database. That's where the \"db\" below comes from.\n",
    "    for hotel in response[\"results\"]:\n",
    "        db.hotels.insert_one(hotel) \n",
    "    "
   ]
  },
  {
   "source": [
    "<h3>Retrieving Your Data</h3>\n",
    "<p>Once you've connected to MongoDB, you can use Python to search and organize the data however you like<p>"
   ],
   "cell_type": "markdown",
   "metadata": {}
  },
  {
   "cell_type": "code",
   "execution_count": 62,
   "metadata": {},
   "outputs": [
    {
     "output_type": "stream",
     "name": "stdout",
     "text": [
      "{'_id': '5fc8c59d0fe2bdfd21c0d22d',\n 'about': 'Id reprehenderit ut nostrud anim reprehenderit aliqua irure '\n          'occaecat aliquip occaecat aliqua aute ut amet. Officia in ad '\n          'voluptate est aliquip quis labore nostrud et ullamco amet occaecat. '\n          'Fugiat dolore dolore commodo reprehenderit sit id adipisicing '\n          'aliquip mollit anim commodo laboris laborum velit. Elit ea non '\n          'laboris elit laborum duis labore fugiat consectetur. Magna nostrud '\n          'Lorem labore proident et.\\r\\n',\n 'address': '434 Ash Street, Nutrioso, Connecticut, 9665',\n 'age': 38,\n 'balance': '$2,823.20',\n 'company': 'ZENOLUX',\n 'email': 'helenegrimes@zenolux.com',\n 'eyeColor': 'blue',\n 'favoriteFruit': 'banana',\n 'friends': [{'id': 0, 'name': 'Estrada Walker'},\n             {'id': 1, 'name': 'Lorena Becker'},\n             {'id': 2, 'name': 'Leah Dominguez'}],\n 'gender': 'female',\n 'greeting': 'Hello, Helene Grimes! You have 10 unread messages.',\n 'guid': '1757c76e-4c10-4b9c-a2a3-8db0a3743716',\n 'index': 0,\n 'isActive': False,\n 'latitude': 16.534596,\n 'longitude': -21.298452,\n 'name': 'Helene Grimes',\n 'phone': '+1 (820) 520-2522',\n 'picture': 'http://placehold.it/32x32',\n 'registered': '2020-10-12T02:36:23 +07:00',\n 'tags': ['id',\n          'incididunt',\n          'labore',\n          'laboris',\n          'ipsum',\n          'laboris',\n          'labore']}\n{'_id': '5fc8c59df2000e6c437bef8b',\n 'about': 'Est sunt proident Lorem nulla mollit qui pariatur cillum ullamco '\n          'aliquip commodo cillum duis sit. Qui amet do minim culpa nisi sit '\n          'id elit aliquip reprehenderit cillum. Ad sunt reprehenderit et '\n          'fugiat minim occaecat cupidatat id exercitation pariatur. Aute '\n          'dolor laborum adipisicing nulla sunt.\\r\\n',\n 'address': '124 Agate Court, Emison, Michigan, 6081',\n 'age': 26,\n 'balance': '$3,499.23',\n 'company': 'HALAP',\n 'email': 'lambbird@halap.com',\n 'eyeColor': 'green',\n 'favoriteFruit': 'strawberry',\n 'friends': [{'id': 0, 'name': 'Becker Kinney'},\n             {'id': 1, 'name': 'Regina Randolph'},\n             {'id': 2, 'name': 'Evelyn Mathis'}],\n 'gender': 'male',\n 'greeting': 'Hello, Lamb Bird! You have 7 unread messages.',\n 'guid': '3595cf9f-2874-4a7f-aed1-f526a534c7c1',\n 'index': 1,\n 'isActive': True,\n 'latitude': -70.479033,\n 'longitude': -163.788005,\n 'name': 'Lamb Bird',\n 'phone': '+1 (907) 558-3113',\n 'picture': 'http://placehold.it/32x32',\n 'registered': '2020-08-09T08:46:50 +07:00',\n 'tags': ['laborum',\n          'culpa',\n          'reprehenderit',\n          'pariatur',\n          'exercitation',\n          'nulla',\n          'fugiat']}\n{'_id': '5fc8c59d5fd2c767dd475516',\n 'about': 'Exercitation laboris fugiat sit sint cillum incididunt. Voluptate '\n          'aute officia consectetur nisi culpa nulla labore labore in '\n          'adipisicing. Cupidatat do excepteur sit occaecat consectetur '\n          'officia mollit id. Exercitation irure cupidatat laborum id dolor id '\n          'cillum duis. Non dolore fugiat incididunt irure cupidatat nostrud '\n          'ad reprehenderit do mollit fugiat do fugiat.\\r\\n',\n 'address': '329 Evergreen Avenue, Fulford, Alabama, 3914',\n 'age': 24,\n 'balance': '$1,506.51',\n 'company': 'MEDICROIX',\n 'email': 'julietteellison@medicroix.com',\n 'eyeColor': 'green',\n 'favoriteFruit': 'banana',\n 'friends': [{'id': 0, 'name': 'Mooney Blackwell'},\n             {'id': 1, 'name': 'Hayden Watts'},\n             {'id': 2, 'name': 'Dickerson Short'}],\n 'gender': 'female',\n 'greeting': 'Hello, Juliette Ellison! You have 5 unread messages.',\n 'guid': '4929b33c-a312-4073-8dc4-0833e4d27345',\n 'index': 2,\n 'isActive': False,\n 'latitude': 52.831844,\n 'longitude': 144.667709,\n 'name': 'Juliette Ellison',\n 'phone': '+1 (972) 496-3357',\n 'picture': 'http://placehold.it/32x32',\n 'registered': '2020-01-05T12:51:12 +08:00',\n 'tags': ['minim', 'occaecat', 'commodo', 'in', 'ad', 'veniam', 'veniam']}\n{'_id': '5fc8c59d404bfede4557dc80',\n 'about': 'Velit commodo ad fugiat elit Lorem est dolore ullamco nisi nisi '\n          'reprehenderit aliquip velit. Veniam nisi reprehenderit duis '\n          'reprehenderit enim deserunt exercitation. Et culpa enim aliqua eu '\n          'enim eu dolore cillum elit.\\r\\n',\n 'address': '983 Bay Street, Nogal, Florida, 2898',\n 'age': 30,\n 'balance': '$3,038.25',\n 'company': 'BRAINCLIP',\n 'email': 'mathewsmaldonado@brainclip.com',\n 'eyeColor': 'brown',\n 'favoriteFruit': 'apple',\n 'friends': [{'id': 0, 'name': 'Clemons Pickett'},\n             {'id': 1, 'name': 'Suarez Rodriquez'},\n             {'id': 2, 'name': 'Wagner Martin'}],\n 'gender': 'male',\n 'greeting': 'Hello, Mathews Maldonado! You have 5 unread messages.',\n 'guid': 'fdd9c9b7-5040-4d6b-a893-eecc2c6759a7',\n 'index': 3,\n 'isActive': True,\n 'latitude': -55.25792,\n 'longitude': 115.730574,\n 'name': 'Mathews Maldonado',\n 'phone': '+1 (878) 481-2827',\n 'picture': 'http://placehold.it/32x32',\n 'registered': '2015-06-30T12:28:44 +07:00',\n 'tags': ['sint', 'proident', 'nulla', 'eu', 'ipsum', 'aliqua', 'dolor']}\n{'_id': '5fc8c59dae099587f4db3628',\n 'about': 'Labore nostrud cupidatat duis anim amet ad nisi. Aute in velit '\n          'tempor dolor incididunt irure reprehenderit aliquip voluptate '\n          'commodo do fugiat. Tempor laborum cillum et et duis cupidatat magna '\n          'proident consectetur velit culpa id laboris. Dolore labore officia '\n          'eu do in laborum ipsum amet fugiat nostrud. Nulla consequat '\n          'proident officia aliquip qui pariatur irure anim. Sint eiusmod '\n          'excepteur ipsum deserunt. Culpa sit nostrud dolor pariatur.\\r\\n',\n 'address': '861 Polhemus Place, Statenville, Palau, 8637',\n 'age': 23,\n 'balance': '$3,669.33',\n 'company': 'DIGIPRINT',\n 'email': 'nonamcfadden@digiprint.com',\n 'eyeColor': 'brown',\n 'favoriteFruit': 'strawberry',\n 'friends': [{'id': 0, 'name': 'Buck Cook'},\n             {'id': 1, 'name': 'Sandra Mercado'},\n             {'id': 2, 'name': 'Pam Kirkland'}],\n 'gender': 'female',\n 'greeting': 'Hello, Nona Mcfadden! You have 8 unread messages.',\n 'guid': '30399b1d-d0b5-40a5-b797-0f0abebe0a0d',\n 'index': 4,\n 'isActive': True,\n 'latitude': -40.784649,\n 'longitude': 161.291811,\n 'name': 'Nona Mcfadden',\n 'phone': '+1 (844) 559-2238',\n 'picture': 'http://placehold.it/32x32',\n 'registered': '2015-04-12T12:47:00 +07:00',\n 'tags': ['amet', 'occaecat', 'velit', 'ex', 'cupidatat', 'culpa', 'aliquip']}\n{'_id': '5fc8c59d3fdd41504485c2ff',\n 'about': 'Cupidatat amet pariatur veniam do occaecat sint anim sit laborum '\n          'irure. Quis culpa consequat ut consequat consequat proident ad '\n          'Lorem ex et ullamco eu magna. Aute culpa mollit sit labore nulla in '\n          'est deserunt excepteur id non.\\r\\n',\n 'address': '857 Cherry Street, Rivereno, New Jersey, 8388',\n 'age': 39,\n 'balance': '$3,677.07',\n 'company': 'XEREX',\n 'email': 'noblenewman@xerex.com',\n 'eyeColor': 'green',\n 'favoriteFruit': 'banana',\n 'friends': [{'id': 0, 'name': 'Murray Jordan'},\n             {'id': 1, 'name': 'Gallagher Monroe'},\n             {'id': 2, 'name': 'Lucas Reilly'}],\n 'gender': 'male',\n 'greeting': 'Hello, Noble Newman! You have 6 unread messages.',\n 'guid': '6bdcdce6-72f8-4e02-b131-4169177f7f95',\n 'index': 5,\n 'isActive': False,\n 'latitude': -80.146717,\n 'longitude': 130.1904,\n 'name': 'Noble Newman',\n 'phone': '+1 (899) 448-2102',\n 'picture': 'http://placehold.it/32x32',\n 'registered': '2020-02-27T12:35:25 +08:00',\n 'tags': ['occaecat',\n          'incididunt',\n          'non',\n          'proident',\n          'officia',\n          'Lorem',\n          'nulla']}\n"
     ]
    }
   ],
   "source": [
    "#Retrieve entire collection\n",
    "records=db.clients.find()\n",
    "for entry in records:\n",
    "    pprint(entry)"
   ]
  },
  {
   "cell_type": "code",
   "execution_count": 19,
   "metadata": {},
   "outputs": [
    {
     "output_type": "stream",
     "name": "stdout",
     "text": [
      "{'_id': '5fc8c59d0fe2bdfd21c0d22d', 'gender': 'female'}\n{'_id': '5fc8c59df2000e6c437bef8b', 'gender': 'female'}\n{'_id': '5fc8c59d5fd2c767dd475516', 'gender': 'female'}\n{'_id': '5fc8c59d404bfede4557dc80', 'gender': 'female'}\n{'_id': '5fc8c59dae099587f4db3628', 'gender': 'female'}\n{'_id': '5fc8c59d3fdd41504485c2ff', 'gender': 'female'}\n"
     ]
    }
   ],
   "source": [
    "#Retrieve entries by index and field value:\n",
    "female_clients=db.clients.find({},{ \"gender\": \"female\"})\n",
    "for entry in female_clients:\n",
    "    print(entry)"
   ]
  },
  {
   "cell_type": "code",
   "execution_count": 74,
   "metadata": {},
   "outputs": [
    {
     "output_type": "stream",
     "name": "stdout",
     "text": [
      "Name:Helene Grimes, Age:38\nName:Lamb Bird, Age:26\nName:Mathews Maldonado, Age:30\nName:Nona Mcfadden, Age:23\nName:Noble Newman, Age:39\n"
     ]
    }
   ],
   "source": [
    "#Retrieve entries by any field and by a range of values:\n",
    "clients=db.clients.find()\n",
    "for person in clients:\n",
    "    balance=person[\"balance\"]\n",
    "    balance=balance.replace(\"$\",\"\")\n",
    "    balance=balance.replace(\",\",\"\")\n",
    "    balance=float(balance)\n",
    "    if balance > 2000:\n",
    "        name=person[\"name\"]\n",
    "        age=person[\"age\"]\n",
    "        print(f\"Name:{name}, Age:{age}\")"
   ]
  }
 ]
}